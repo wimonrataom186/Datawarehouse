{
  "nbformat": 4,
  "nbformat_minor": 0,
  "metadata": {
    "colab": {
      "name": "hello_world.ipynb",
      "provenance": [],
      "include_colab_link": true
    },
    "kernelspec": {
      "name": "python3",
      "display_name": "Python 3"
    }
  },
  "cells": [
    {
      "cell_type": "markdown",
      "metadata": {
        "id": "view-in-github",
        "colab_type": "text"
      },
      "source": [
        "<a href=\"https://colab.research.google.com/github/wimonrataom186/Datawarehouse/blob/master/hello_world.ipynb\" target=\"_parent\"><img src=\"https://colab.research.google.com/assets/colab-badge.svg\" alt=\"Open In Colab\"/></a>"
      ]
    },
    {
      "cell_type": "code",
      "metadata": {
        "id": "XZ8KUIazi4kl",
        "colab_type": "code",
        "outputId": "6149cd81-5656-4d06-f7c1-554306f0c00c",
        "colab": {
          "base_uri": "https://localhost:8080/",
          "height": 34
        }
      },
      "source": [
        "print(\"Hello Wold\")"
      ],
      "execution_count": 0,
      "outputs": [
        {
          "output_type": "stream",
          "text": [
            "Hello Wold\n"
          ],
          "name": "stdout"
        }
      ]
    },
    {
      "cell_type": "markdown",
      "metadata": {
        "id": "_4xk5_ESjM93",
        "colab_type": "text"
      },
      "source": [
        "# Declare Variable\n",
        "How to declare variable in Python"
      ]
    },
    {
      "cell_type": "code",
      "metadata": {
        "id": "6Awe0u1tjeH9",
        "colab_type": "code",
        "outputId": "83c4ce0f-2f01-4d8b-cd7a-054055e2d541",
        "colab": {
          "base_uri": "https://localhost:8080/",
          "height": 34
        }
      },
      "source": [
        "score = 100\n",
        "name =\"Phasit\"\n",
        "print(\"Name is\"+ name + \"score is\" +str(score))"
      ],
      "execution_count": 0,
      "outputs": [
        {
          "output_type": "stream",
          "text": [
            "Name isPhasitscore is100\n"
          ],
          "name": "stdout"
        }
      ]
    },
    {
      "cell_type": "code",
      "metadata": {
        "id": "mS7IISkej-bW",
        "colab_type": "code",
        "outputId": "06bcf77e-ca2f-43d4-8f6b-8a35c7d2b529",
        "colab": {
          "base_uri": "https://localhost:8080/",
          "height": 34
        }
      },
      "source": [
        "a=2\n",
        "b=3\n",
        "c=a*b\n",
        "print(c)"
      ],
      "execution_count": 0,
      "outputs": [
        {
          "output_type": "stream",
          "text": [
            "6\n"
          ],
          "name": "stdout"
        }
      ]
    },
    {
      "cell_type": "code",
      "metadata": {
        "id": "qSuQmgn5kN1O",
        "colab_type": "code",
        "colab": {}
      },
      "source": [
        ""
      ],
      "execution_count": 0,
      "outputs": []
    },
    {
      "cell_type": "markdown",
      "metadata": {
        "id": "GOJm89iemyHB",
        "colab_type": "text"
      },
      "source": [
        "# List\n",
        "\n",
        "How to use list Phthon"
      ]
    },
    {
      "cell_type": "code",
      "metadata": {
        "id": "3mfcp5Apmz4G",
        "colab_type": "code",
        "colab": {
          "base_uri": "https://localhost:8080/",
          "height": 34
        },
        "outputId": "097ad4d1-e7e0-4835-8dd1-260a35d64a8e"
      },
      "source": [
        "mylist = []\n",
        "mylist.append(\"Phasit\")\n",
        "mylist.append(200)\n",
        "mylist"
      ],
      "execution_count": 9,
      "outputs": [
        {
          "output_type": "execute_result",
          "data": {
            "text/plain": [
              "['Phasit', 200]"
            ]
          },
          "metadata": {
            "tags": []
          },
          "execution_count": 9
        }
      ]
    },
    {
      "cell_type": "code",
      "metadata": {
        "id": "Qz-dRl1-nIK8",
        "colab_type": "code",
        "colab": {}
      },
      "source": [
        ""
      ],
      "execution_count": 0,
      "outputs": []
    },
    {
      "cell_type": "markdown",
      "metadata": {
        "id": "x5ltp70dnJ2Q",
        "colab_type": "text"
      },
      "source": [
        "How to count data in list"
      ]
    },
    {
      "cell_type": "code",
      "metadata": {
        "id": "93PhvYPEnP0e",
        "colab_type": "code",
        "colab": {
          "base_uri": "https://localhost:8080/",
          "height": 34
        },
        "outputId": "aaebb869-7085-414e-ef39-4f7d18c55a10"
      },
      "source": [
        "len(mylist)"
      ],
      "execution_count": 10,
      "outputs": [
        {
          "output_type": "execute_result",
          "data": {
            "text/plain": [
              "2"
            ]
          },
          "metadata": {
            "tags": []
          },
          "execution_count": 10
        }
      ]
    },
    {
      "cell_type": "markdown",
      "metadata": {
        "id": "fC-0MW4nnzq3",
        "colab_type": "text"
      },
      "source": [
        "# IF-Else Python\n",
        "\n",
        "How to use if-else in python"
      ]
    },
    {
      "cell_type": "code",
      "metadata": {
        "id": "YkO_WeR2nTdu",
        "colab_type": "code",
        "colab": {
          "base_uri": "https://localhost:8080/",
          "height": 34
        },
        "outputId": "2a57951e-b229-4b36-ff65-d25f63ccdfe6"
      },
      "source": [
        "if mylist[1]>100 :\n",
        "  print(\"Pass\")\n",
        "  "
      ],
      "execution_count": 11,
      "outputs": [
        {
          "output_type": "stream",
          "text": [
            "Pass\n"
          ],
          "name": "stdout"
        }
      ]
    },
    {
      "cell_type": "code",
      "metadata": {
        "id": "1muj3rLToMC7",
        "colab_type": "code",
        "colab": {
          "base_uri": "https://localhost:8080/",
          "height": 34
        },
        "outputId": "e7c9181d-eaec-4d10-f6c0-9208dad0144d"
      },
      "source": [
        "if  mylist[1]>100 :\n",
        "    name = mylist[0]\n",
        "    score =mylist[1]\n",
        "    print(name+\" \" +str(score))\n",
        "elif mylist[1] > 200 :\n",
        "    print(\"Very Pass\")\n",
        "else :\n",
        "    print(\"Super pass\")\n",
        "  "
      ],
      "execution_count": 19,
      "outputs": [
        {
          "output_type": "stream",
          "text": [
            "Phasit 200\n"
          ],
          "name": "stdout"
        }
      ]
    },
    {
      "cell_type": "code",
      "metadata": {
        "id": "WxbFDRMGqWe1",
        "colab_type": "code",
        "colab": {}
      },
      "source": [
        ""
      ],
      "execution_count": 0,
      "outputs": []
    },
    {
      "cell_type": "markdown",
      "metadata": {
        "id": "hKVa7vfOqb0Z",
        "colab_type": "text"
      },
      "source": [
        "# For loop"
      ]
    },
    {
      "cell_type": "code",
      "metadata": {
        "id": "UYEkwEW9qgPH",
        "colab_type": "code",
        "colab": {
          "base_uri": "https://localhost:8080/",
          "height": 187
        },
        "outputId": "bfe56cee-3bf8-44bf-ec0e-aaba5672ef1a"
      },
      "source": [
        "summation = 0\n",
        "for i in range(1,10) :\n",
        "    print(str(i))\n",
        "    summation = summation +1\n",
        "print(\"The summation result is\"+str(summation))"
      ],
      "execution_count": 26,
      "outputs": [
        {
          "output_type": "stream",
          "text": [
            "1\n",
            "2\n",
            "3\n",
            "4\n",
            "5\n",
            "6\n",
            "7\n",
            "8\n",
            "9\n",
            "The summation result is9\n"
          ],
          "name": "stdout"
        }
      ]
    },
    {
      "cell_type": "code",
      "metadata": {
        "id": "lPuSVyoIrCwn",
        "colab_type": "code",
        "colab": {
          "base_uri": "https://localhost:8080/",
          "height": 187
        },
        "outputId": "4730b5ba-1f39-497d-ed74-b0ddca3a44b3"
      },
      "source": [
        "summation =[]\n",
        "for i in range(0,10) :\n",
        "  summation.append(i)\n",
        "  \n",
        "for i in summation :\n",
        "  print(str(i))"
      ],
      "execution_count": 27,
      "outputs": [
        {
          "output_type": "stream",
          "text": [
            "0\n",
            "1\n",
            "2\n",
            "3\n",
            "4\n",
            "5\n",
            "6\n",
            "7\n",
            "8\n",
            "9\n"
          ],
          "name": "stdout"
        }
      ]
    },
    {
      "cell_type": "code",
      "metadata": {
        "id": "DI2GAg5lsMR1",
        "colab_type": "code",
        "colab": {
          "base_uri": "https://localhost:8080/",
          "height": 187
        },
        "outputId": "6627100e-6059-4367-bfbb-5ae5be83cf05"
      },
      "source": [
        "summation =[]\n",
        "a=0\n",
        "for i in range(0,10) :\n",
        "    a=a+5\n",
        "    summation.append(a)\n",
        "  \n",
        "for i in summation :\n",
        "    print(str(i))"
      ],
      "execution_count": 31,
      "outputs": [
        {
          "output_type": "stream",
          "text": [
            "5\n",
            "10\n",
            "15\n",
            "20\n",
            "25\n",
            "30\n",
            "35\n",
            "40\n",
            "45\n",
            "50\n"
          ],
          "name": "stdout"
        }
      ]
    },
    {
      "cell_type": "code",
      "metadata": {
        "id": "Khs_1SMXs8xn",
        "colab_type": "code",
        "colab": {}
      },
      "source": [
        ""
      ],
      "execution_count": 0,
      "outputs": []
    }
  ]
}