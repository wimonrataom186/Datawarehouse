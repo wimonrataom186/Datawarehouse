{
  "nbformat": 4,
  "nbformat_minor": 0,
  "metadata": {
    "colab": {
      "name": "hello_world.ipynb",
      "provenance": [],
      "include_colab_link": true
    },
    "kernelspec": {
      "name": "python3",
      "display_name": "Python 3"
    }
  },
  "cells": [
    {
      "cell_type": "markdown",
      "metadata": {
        "id": "view-in-github",
        "colab_type": "text"
      },
      "source": [
        "<a href=\"https://colab.research.google.com/github/wimonrataom186/Datawarehouse/blob/master/hello_world.ipynb\" target=\"_parent\"><img src=\"https://colab.research.google.com/assets/colab-badge.svg\" alt=\"Open In Colab\"/></a>"
      ]
    },
    {
      "cell_type": "code",
      "metadata": {
        "id": "XZ8KUIazi4kl",
        "colab_type": "code",
        "outputId": "6149cd81-5656-4d06-f7c1-554306f0c00c",
        "colab": {
          "base_uri": "https://localhost:8080/",
          "height": 34
        }
      },
      "source": [
        "print(\"Hello Wold\")"
      ],
      "execution_count": 0,
      "outputs": [
        {
          "output_type": "stream",
          "text": [
            "Hello Wold\n"
          ],
          "name": "stdout"
        }
      ]
    },
    {
      "cell_type": "markdown",
      "metadata": {
        "id": "_4xk5_ESjM93",
        "colab_type": "text"
      },
      "source": [
        "# Declare Variable\n",
        "How to declare variable in Python"
      ]
    },
    {
      "cell_type": "code",
      "metadata": {
        "id": "6Awe0u1tjeH9",
        "colab_type": "code",
        "outputId": "83c4ce0f-2f01-4d8b-cd7a-054055e2d541",
        "colab": {
          "base_uri": "https://localhost:8080/",
          "height": 34
        }
      },
      "source": [
        "score = 100\n",
        "name =\"Phasit\"\n",
        "print(\"Name is\"+ name + \"score is\" +str(score))"
      ],
      "execution_count": 0,
      "outputs": [
        {
          "output_type": "stream",
          "text": [
            "Name isPhasitscore is100\n"
          ],
          "name": "stdout"
        }
      ]
    },
    {
      "cell_type": "code",
      "metadata": {
        "id": "mS7IISkej-bW",
        "colab_type": "code",
        "outputId": "06bcf77e-ca2f-43d4-8f6b-8a35c7d2b529",
        "colab": {
          "base_uri": "https://localhost:8080/",
          "height": 34
        }
      },
      "source": [
        "a=2\n",
        "b=3\n",
        "c=a*b\n",
        "print(c)"
      ],
      "execution_count": 0,
      "outputs": [
        {
          "output_type": "stream",
          "text": [
            "6\n"
          ],
          "name": "stdout"
        }
      ]
    },
    {
      "cell_type": "code",
      "metadata": {
        "id": "qSuQmgn5kN1O",
        "colab_type": "code",
        "colab": {}
      },
      "source": [
        ""
      ],
      "execution_count": 0,
      "outputs": []
    },
    {
      "cell_type": "markdown",
      "metadata": {
        "id": "GOJm89iemyHB",
        "colab_type": "text"
      },
      "source": [
        "# List\n",
        "\n",
        "How to use list Phthon"
      ]
    },
    {
      "cell_type": "code",
      "metadata": {
        "id": "3mfcp5Apmz4G",
        "colab_type": "code",
        "colab": {
          "base_uri": "https://localhost:8080/",
          "height": 34
        },
        "outputId": "097ad4d1-e7e0-4835-8dd1-260a35d64a8e"
      },
      "source": [
        "mylist = []\n",
        "mylist.append(\"Phasit\")\n",
        "mylist.append(200)\n",
        "mylist"
      ],
      "execution_count": 9,
      "outputs": [
        {
          "output_type": "execute_result",
          "data": {
            "text/plain": [
              "['Phasit', 200]"
            ]
          },
          "metadata": {
            "tags": []
          },
          "execution_count": 9
        }
      ]
    },
    {
      "cell_type": "code",
      "metadata": {
        "id": "Qz-dRl1-nIK8",
        "colab_type": "code",
        "colab": {}
      },
      "source": [
        ""
      ],
      "execution_count": 0,
      "outputs": []
    },
    {
      "cell_type": "markdown",
      "metadata": {
        "id": "x5ltp70dnJ2Q",
        "colab_type": "text"
      },
      "source": [
        "How to count data in list"
      ]
    },
    {
      "cell_type": "code",
      "metadata": {
        "id": "93PhvYPEnP0e",
        "colab_type": "code",
        "colab": {
          "base_uri": "https://localhost:8080/",
          "height": 34
        },
        "outputId": "aaebb869-7085-414e-ef39-4f7d18c55a10"
      },
      "source": [
        "len(mylist)"
      ],
      "execution_count": 10,
      "outputs": [
        {
          "output_type": "execute_result",
          "data": {
            "text/plain": [
              "2"
            ]
          },
          "metadata": {
            "tags": []
          },
          "execution_count": 10
        }
      ]
    },
    {
      "cell_type": "markdown",
      "metadata": {
        "id": "fC-0MW4nnzq3",
        "colab_type": "text"
      },
      "source": [
        "# IF-Else Python\n",
        "\n",
        "How to use if-else in python"
      ]
    },
    {
      "cell_type": "code",
      "metadata": {
        "id": "YkO_WeR2nTdu",
        "colab_type": "code",
        "colab": {
          "base_uri": "https://localhost:8080/",
          "height": 34
        },
        "outputId": "2a57951e-b229-4b36-ff65-d25f63ccdfe6"
      },
      "source": [
        "if mylist[1]>100 :\n",
        "  print(\"Pass\")\n",
        "  "
      ],
      "execution_count": 11,
      "outputs": [
        {
          "output_type": "stream",
          "text": [
            "Pass\n"
          ],
          "name": "stdout"
        }
      ]
    },
    {
      "cell_type": "code",
      "metadata": {
        "id": "1muj3rLToMC7",
        "colab_type": "code",
        "colab": {
          "base_uri": "https://localhost:8080/",
          "height": 34
        },
        "outputId": "e7c9181d-eaec-4d10-f6c0-9208dad0144d"
      },
      "source": [
        "if  mylist[1]>100 :\n",
        "    name = mylist[0]\n",
        "    score =mylist[1]\n",
        "    print(name+\" \" +str(score))\n",
        "elif mylist[1] > 200 :\n",
        "    print(\"Very Pass\")\n",
        "else :\n",
        "    print(\"Super pass\")\n",
        "  "
      ],
      "execution_count": 19,
      "outputs": [
        {
          "output_type": "stream",
          "text": [
            "Phasit 200\n"
          ],
          "name": "stdout"
        }
      ]
    },
    {
      "cell_type": "code",
      "metadata": {
        "id": "WxbFDRMGqWe1",
        "colab_type": "code",
        "colab": {}
      },
      "source": [
        ""
      ],
      "execution_count": 0,
      "outputs": []
    },
    {
      "cell_type": "markdown",
      "metadata": {
        "id": "hKVa7vfOqb0Z",
        "colab_type": "text"
      },
      "source": [
        "# For loop"
      ]
    },
    {
      "cell_type": "code",
      "metadata": {
        "id": "UYEkwEW9qgPH",
        "colab_type": "code",
        "colab": {
          "base_uri": "https://localhost:8080/",
          "height": 187
        },
        "outputId": "bfe56cee-3bf8-44bf-ec0e-aaba5672ef1a"
      },
      "source": [
        "summation = 0\n",
        "for i in range(1,10) :\n",
        "    print(str(i))\n",
        "    summation = summation +1\n",
        "print(\"The summation result is\"+str(summation))"
      ],
      "execution_count": 26,
      "outputs": [
        {
          "output_type": "stream",
          "text": [
            "1\n",
            "2\n",
            "3\n",
            "4\n",
            "5\n",
            "6\n",
            "7\n",
            "8\n",
            "9\n",
            "The summation result is9\n"
          ],
          "name": "stdout"
        }
      ]
    },
    {
      "cell_type": "code",
      "metadata": {
        "id": "lPuSVyoIrCwn",
        "colab_type": "code",
        "colab": {
          "base_uri": "https://localhost:8080/",
          "height": 187
        },
        "outputId": "4730b5ba-1f39-497d-ed74-b0ddca3a44b3"
      },
      "source": [
        "summation =[]\n",
        "for i in range(0,10) :\n",
        "  summation.append(i)\n",
        "  \n",
        "for i in summation :\n",
        "  print(str(i))"
      ],
      "execution_count": 27,
      "outputs": [
        {
          "output_type": "stream",
          "text": [
            "0\n",
            "1\n",
            "2\n",
            "3\n",
            "4\n",
            "5\n",
            "6\n",
            "7\n",
            "8\n",
            "9\n"
          ],
          "name": "stdout"
        }
      ]
    },
    {
      "cell_type": "code",
      "metadata": {
        "id": "DI2GAg5lsMR1",
        "colab_type": "code",
        "colab": {
          "base_uri": "https://localhost:8080/",
          "height": 187
        },
        "outputId": "6627100e-6059-4367-bfbb-5ae5be83cf05"
      },
      "source": [
        "summation =[]\n",
        "a=0\n",
        "for i in range(0,10) :\n",
        "    a=a+5\n",
        "    summation.append(a)\n",
        "  \n",
        "for i in summation :\n",
        "    print(str(i))"
      ],
      "execution_count": 31,
      "outputs": [
        {
          "output_type": "stream",
          "text": [
            "5\n",
            "10\n",
            "15\n",
            "20\n",
            "25\n",
            "30\n",
            "35\n",
            "40\n",
            "45\n",
            "50\n"
          ],
          "name": "stdout"
        }
      ]
    },
    {
      "cell_type": "code",
      "metadata": {
        "id": "Khs_1SMXs8xn",
        "colab_type": "code",
        "colab": {}
      },
      "source": [
        ""
      ],
      "execution_count": 0,
      "outputs": []
    },
    {
      "cell_type": "markdown",
      "metadata": {
        "id": "s3xRwcMxvW_T",
        "colab_type": "text"
      },
      "source": [
        "#NumPy\n",
        "\n",
        "Library for matrix operation"
      ]
    },
    {
      "cell_type": "code",
      "metadata": {
        "id": "l6jTDD0lveP2",
        "colab_type": "code",
        "colab": {}
      },
      "source": [
        "import numpy as np"
      ],
      "execution_count": 0,
      "outputs": []
    },
    {
      "cell_type": "code",
      "metadata": {
        "id": "7HiPDSAkvmI9",
        "colab_type": "code",
        "colab": {
          "base_uri": "https://localhost:8080/",
          "height": 34
        },
        "outputId": "4fd1bbc9-dfc5-45d9-f4b6-914c70cd6d82"
      },
      "source": [
        "l =[1,2,3,4]\n",
        "np_array = np.array(1)\n",
        "type(np_array)"
      ],
      "execution_count": 33,
      "outputs": [
        {
          "output_type": "execute_result",
          "data": {
            "text/plain": [
              "numpy.ndarray"
            ]
          },
          "metadata": {
            "tags": []
          },
          "execution_count": 33
        }
      ]
    },
    {
      "cell_type": "code",
      "metadata": {
        "id": "jvxkKmTUwjwY",
        "colab_type": "code",
        "colab": {}
      },
      "source": [
        ""
      ],
      "execution_count": 0,
      "outputs": []
    },
    {
      "cell_type": "markdown",
      "metadata": {
        "id": "NDUcCfPqwkr_",
        "colab_type": "text"
      },
      "source": [
        "type เอาไว้ดูชนิดของตัวแปร"
      ]
    },
    {
      "cell_type": "code",
      "metadata": {
        "id": "Y5vSkWdmwpHQ",
        "colab_type": "code",
        "colab": {}
      },
      "source": [
        ""
      ],
      "execution_count": 0,
      "outputs": []
    },
    {
      "cell_type": "markdown",
      "metadata": {
        "id": "n69UUnCRwtOC",
        "colab_type": "text"
      },
      "source": [
        "# Create Matrix "
      ]
    },
    {
      "cell_type": "code",
      "metadata": {
        "id": "Nc6CbS0Wwxnw",
        "colab_type": "code",
        "colab": {}
      },
      "source": [
        "np_matrix = np.array([[1,2],[3,4],[5,6]])"
      ],
      "execution_count": 0,
      "outputs": []
    },
    {
      "cell_type": "code",
      "metadata": {
        "id": "0ayPxsKOx9do",
        "colab_type": "code",
        "colab": {
          "base_uri": "https://localhost:8080/",
          "height": 68
        },
        "outputId": "8d0bdaec-6fcd-489c-bc23-8630d4ec9f5c"
      },
      "source": [
        "np_matrix"
      ],
      "execution_count": 35,
      "outputs": [
        {
          "output_type": "execute_result",
          "data": {
            "text/plain": [
              "array([[1, 2],\n",
              "       [3, 4],\n",
              "       [5, 6]])"
            ]
          },
          "metadata": {
            "tags": []
          },
          "execution_count": 35
        }
      ]
    },
    {
      "cell_type": "code",
      "metadata": {
        "id": "7qRntXfNyA5A",
        "colab_type": "code",
        "colab": {}
      },
      "source": [
        ""
      ],
      "execution_count": 0,
      "outputs": []
    },
    {
      "cell_type": "markdown",
      "metadata": {
        "id": "4xCANVhLyE96",
        "colab_type": "text"
      },
      "source": [
        "# Check Matrix Size"
      ]
    },
    {
      "cell_type": "code",
      "metadata": {
        "id": "lN8jUbq6yK2A",
        "colab_type": "code",
        "colab": {
          "base_uri": "https://localhost:8080/",
          "height": 34
        },
        "outputId": "b0740655-ee01-4bba-e1e0-22610a642325"
      },
      "source": [
        "np.size(np_matrix,0)"
      ],
      "execution_count": 36,
      "outputs": [
        {
          "output_type": "execute_result",
          "data": {
            "text/plain": [
              "3"
            ]
          },
          "metadata": {
            "tags": []
          },
          "execution_count": 36
        }
      ]
    },
    {
      "cell_type": "code",
      "metadata": {
        "id": "YX5zUlIoymFZ",
        "colab_type": "code",
        "colab": {
          "base_uri": "https://localhost:8080/",
          "height": 34
        },
        "outputId": "89812dd9-9dd8-430f-b80b-2d2e98eccd37"
      },
      "source": [
        "np.size(np_matrix,1)"
      ],
      "execution_count": 37,
      "outputs": [
        {
          "output_type": "execute_result",
          "data": {
            "text/plain": [
              "2"
            ]
          },
          "metadata": {
            "tags": []
          },
          "execution_count": 37
        }
      ]
    },
    {
      "cell_type": "code",
      "metadata": {
        "id": "Go5ac9vPywiQ",
        "colab_type": "code",
        "colab": {}
      },
      "source": [
        ""
      ],
      "execution_count": 0,
      "outputs": []
    },
    {
      "cell_type": "markdown",
      "metadata": {
        "id": "fZ9SXiqEyzyb",
        "colab_type": "text"
      },
      "source": [
        "# Check Matrix Properties"
      ]
    },
    {
      "cell_type": "code",
      "metadata": {
        "id": "kn83yXWYzToY",
        "colab_type": "code",
        "colab": {
          "base_uri": "https://localhost:8080/",
          "height": 34
        },
        "outputId": "58b5aa66-9176-46af-ca7a-91ffa0ee2e9c"
      },
      "source": [
        "np_matrix.shape"
      ],
      "execution_count": 38,
      "outputs": [
        {
          "output_type": "execute_result",
          "data": {
            "text/plain": [
              "(3, 2)"
            ]
          },
          "metadata": {
            "tags": []
          },
          "execution_count": 38
        }
      ]
    },
    {
      "cell_type": "code",
      "metadata": {
        "id": "wvGdo7GczZcp",
        "colab_type": "code",
        "colab": {
          "base_uri": "https://localhost:8080/",
          "height": 34
        },
        "outputId": "a3a54cb3-9d90-42d6-80e1-3d70e391ff21"
      },
      "source": [
        "np_matrix.ndim"
      ],
      "execution_count": 39,
      "outputs": [
        {
          "output_type": "execute_result",
          "data": {
            "text/plain": [
              "2"
            ]
          },
          "metadata": {
            "tags": []
          },
          "execution_count": 39
        }
      ]
    },
    {
      "cell_type": "code",
      "metadata": {
        "id": "BI7LXkZx0hBh",
        "colab_type": "code",
        "colab": {
          "base_uri": "https://localhost:8080/",
          "height": 34
        },
        "outputId": "fdd356bb-fbb3-4c31-ab95-2321b33a67ab"
      },
      "source": [
        "np_matrix.size"
      ],
      "execution_count": 40,
      "outputs": [
        {
          "output_type": "execute_result",
          "data": {
            "text/plain": [
              "6"
            ]
          },
          "metadata": {
            "tags": []
          },
          "execution_count": 40
        }
      ]
    },
    {
      "cell_type": "markdown",
      "metadata": {
        "id": "aZOGaSFl1Ywb",
        "colab_type": "text"
      },
      "source": [
        "# Matrix can be mix type (auto casting)"
      ]
    },
    {
      "cell_type": "code",
      "metadata": {
        "id": "5k86s7X20mJZ",
        "colab_type": "code",
        "colab": {}
      },
      "source": [
        "np_mix_matrix=np.array([['one',2],['three',4],['five',6]])"
      ],
      "execution_count": 0,
      "outputs": []
    },
    {
      "cell_type": "code",
      "metadata": {
        "id": "EMgPxYDr1oSp",
        "colab_type": "code",
        "colab": {
          "base_uri": "https://localhost:8080/",
          "height": 68
        },
        "outputId": "bf33e2d4-909d-4973-d72d-f7febfc327fe"
      },
      "source": [
        "np_mix_matrix"
      ],
      "execution_count": 43,
      "outputs": [
        {
          "output_type": "execute_result",
          "data": {
            "text/plain": [
              "array([['one', '2'],\n",
              "       ['three', '4'],\n",
              "       ['five', '6']], dtype='<U5')"
            ]
          },
          "metadata": {
            "tags": []
          },
          "execution_count": 43
        }
      ]
    },
    {
      "cell_type": "code",
      "metadata": {
        "id": "fSp1CAd61tGY",
        "colab_type": "code",
        "colab": {}
      },
      "source": [
        ""
      ],
      "execution_count": 0,
      "outputs": []
    },
    {
      "cell_type": "markdown",
      "metadata": {
        "id": "eBodQqWT15er",
        "colab_type": "text"
      },
      "source": [
        "#Access data element"
      ]
    },
    {
      "cell_type": "code",
      "metadata": {
        "id": "LM7Q_Gpe19CI",
        "colab_type": "code",
        "colab": {
          "base_uri": "https://localhost:8080/",
          "height": 34
        },
        "outputId": "2a79588f-ae7f-4a17-8932-73f1f4a9798b"
      },
      "source": [
        "np_mix_matrix[0,1]"
      ],
      "execution_count": 44,
      "outputs": [
        {
          "output_type": "execute_result",
          "data": {
            "text/plain": [
              "'2'"
            ]
          },
          "metadata": {
            "tags": []
          },
          "execution_count": 44
        }
      ]
    },
    {
      "cell_type": "code",
      "metadata": {
        "id": "ZSMZCXRD2CGh",
        "colab_type": "code",
        "colab": {}
      },
      "source": [
        ""
      ],
      "execution_count": 0,
      "outputs": []
    },
    {
      "cell_type": "markdown",
      "metadata": {
        "id": "0PlRJ9mj2M1L",
        "colab_type": "text"
      },
      "source": [
        "Access all column of matrix"
      ]
    },
    {
      "cell_type": "code",
      "metadata": {
        "id": "7PWZFp382UWp",
        "colab_type": "code",
        "colab": {
          "base_uri": "https://localhost:8080/",
          "height": 34
        },
        "outputId": "908ba504-479a-4a26-b7b3-c2c92d491048"
      },
      "source": [
        "np_mix_matrix[:,0]"
      ],
      "execution_count": 45,
      "outputs": [
        {
          "output_type": "execute_result",
          "data": {
            "text/plain": [
              "array(['one', 'three', 'five'], dtype='<U5')"
            ]
          },
          "metadata": {
            "tags": []
          },
          "execution_count": 45
        }
      ]
    },
    {
      "cell_type": "code",
      "metadata": {
        "id": "XR9hjdg62ayp",
        "colab_type": "code",
        "colab": {}
      },
      "source": [
        ""
      ],
      "execution_count": 0,
      "outputs": []
    },
    {
      "cell_type": "markdown",
      "metadata": {
        "id": "yFt3LKrp2coD",
        "colab_type": "text"
      },
      "source": [
        "Access all row of matrix"
      ]
    },
    {
      "cell_type": "code",
      "metadata": {
        "id": "PEFkRBO82in5",
        "colab_type": "code",
        "colab": {
          "base_uri": "https://localhost:8080/",
          "height": 34
        },
        "outputId": "34b9069d-1bc1-4a1b-c0bf-92b5fcfec800"
      },
      "source": [
        "np_mix_matrix[0,]"
      ],
      "execution_count": 46,
      "outputs": [
        {
          "output_type": "execute_result",
          "data": {
            "text/plain": [
              "array(['one', '2'], dtype='<U5')"
            ]
          },
          "metadata": {
            "tags": []
          },
          "execution_count": 46
        }
      ]
    },
    {
      "cell_type": "code",
      "metadata": {
        "id": "zIgE59Pg2wwS",
        "colab_type": "code",
        "colab": {}
      },
      "source": [
        ""
      ],
      "execution_count": 0,
      "outputs": []
    },
    {
      "cell_type": "markdown",
      "metadata": {
        "id": "10SC7_mg2y06",
        "colab_type": "text"
      },
      "source": [
        "#Access Data & Type Casting"
      ]
    },
    {
      "cell_type": "code",
      "metadata": {
        "id": "LsHGf3MZ24-5",
        "colab_type": "code",
        "colab": {
          "base_uri": "https://localhost:8080/",
          "height": 51
        },
        "outputId": "1638a904-038f-4931-f54f-8e0411a173e6"
      },
      "source": [
        "np_mix_matrix[0:2,]"
      ],
      "execution_count": 47,
      "outputs": [
        {
          "output_type": "execute_result",
          "data": {
            "text/plain": [
              "array([['one', '2'],\n",
              "       ['three', '4']], dtype='<U5')"
            ]
          },
          "metadata": {
            "tags": []
          },
          "execution_count": 47
        }
      ]
    },
    {
      "cell_type": "code",
      "metadata": {
        "id": "tnapCnQb3Flp",
        "colab_type": "code",
        "colab": {
          "base_uri": "https://localhost:8080/",
          "height": 34
        },
        "outputId": "c3fd7150-39e6-4656-f662-b20073cc59b5"
      },
      "source": [
        "np.array(np_mix_matrix[:,1], dtype = int)"
      ],
      "execution_count": 48,
      "outputs": [
        {
          "output_type": "execute_result",
          "data": {
            "text/plain": [
              "array([2, 4, 6])"
            ]
          },
          "metadata": {
            "tags": []
          },
          "execution_count": 48
        }
      ]
    },
    {
      "cell_type": "code",
      "metadata": {
        "id": "rGzSCHGL4K76",
        "colab_type": "code",
        "colab": {}
      },
      "source": [
        ""
      ],
      "execution_count": 0,
      "outputs": []
    },
    {
      "cell_type": "markdown",
      "metadata": {
        "id": "knAvp1tw4SMl",
        "colab_type": "text"
      },
      "source": [
        "# Cenerate Matrix of Zeros & Ones"
      ]
    },
    {
      "cell_type": "code",
      "metadata": {
        "id": "6HzdXU714Zpi",
        "colab_type": "code",
        "colab": {}
      },
      "source": [
        ""
      ],
      "execution_count": 0,
      "outputs": []
    },
    {
      "cell_type": "markdown",
      "metadata": {
        "id": "xiU8SoQH4bc8",
        "colab_type": "text"
      },
      "source": [
        "zeros"
      ]
    },
    {
      "cell_type": "code",
      "metadata": {
        "id": "tM-bmKVD4dia",
        "colab_type": "code",
        "colab": {
          "base_uri": "https://localhost:8080/",
          "height": 51
        },
        "outputId": "e101a0dd-efbd-4524-cb21-f8582c79c4c5"
      },
      "source": [
        "np.zeros([2,3])"
      ],
      "execution_count": 49,
      "outputs": [
        {
          "output_type": "execute_result",
          "data": {
            "text/plain": [
              "array([[0., 0., 0.],\n",
              "       [0., 0., 0.]])"
            ]
          },
          "metadata": {
            "tags": []
          },
          "execution_count": 49
        }
      ]
    },
    {
      "cell_type": "code",
      "metadata": {
        "id": "dqmHUJII4ki6",
        "colab_type": "code",
        "colab": {}
      },
      "source": [
        ""
      ],
      "execution_count": 0,
      "outputs": []
    },
    {
      "cell_type": "markdown",
      "metadata": {
        "id": "CHpXq9Fg4tkP",
        "colab_type": "text"
      },
      "source": [
        "ones"
      ]
    },
    {
      "cell_type": "code",
      "metadata": {
        "id": "q544bhW34vIS",
        "colab_type": "code",
        "colab": {
          "base_uri": "https://localhost:8080/",
          "height": 102
        },
        "outputId": "7e5aacc8-47ad-4d0e-845e-f6011ba382cd"
      },
      "source": [
        "np.ones([5,5])"
      ],
      "execution_count": 50,
      "outputs": [
        {
          "output_type": "execute_result",
          "data": {
            "text/plain": [
              "array([[1., 1., 1., 1., 1.],\n",
              "       [1., 1., 1., 1., 1.],\n",
              "       [1., 1., 1., 1., 1.],\n",
              "       [1., 1., 1., 1., 1.],\n",
              "       [1., 1., 1., 1., 1.]])"
            ]
          },
          "metadata": {
            "tags": []
          },
          "execution_count": 50
        }
      ]
    },
    {
      "cell_type": "code",
      "metadata": {
        "id": "cye1MtJt40D6",
        "colab_type": "code",
        "colab": {}
      },
      "source": [
        ""
      ],
      "execution_count": 0,
      "outputs": []
    },
    {
      "cell_type": "markdown",
      "metadata": {
        "id": "CircEu1242x9",
        "colab_type": "text"
      },
      "source": [
        "#Generate Eye & Empty"
      ]
    },
    {
      "cell_type": "code",
      "metadata": {
        "id": "FCM1UDJY4-eK",
        "colab_type": "code",
        "colab": {}
      },
      "source": [
        ""
      ],
      "execution_count": 0,
      "outputs": []
    },
    {
      "cell_type": "markdown",
      "metadata": {
        "id": "xKYY-wTM4_3Y",
        "colab_type": "text"
      },
      "source": [
        "Eye"
      ]
    },
    {
      "cell_type": "code",
      "metadata": {
        "id": "CoDiQSOz5BbS",
        "colab_type": "code",
        "colab": {
          "base_uri": "https://localhost:8080/",
          "height": 102
        },
        "outputId": "06f6cef7-8f32-4b6c-cd35-98ae054d9e94"
      },
      "source": [
        "np.eye(5)"
      ],
      "execution_count": 51,
      "outputs": [
        {
          "output_type": "execute_result",
          "data": {
            "text/plain": [
              "array([[1., 0., 0., 0., 0.],\n",
              "       [0., 1., 0., 0., 0.],\n",
              "       [0., 0., 1., 0., 0.],\n",
              "       [0., 0., 0., 1., 0.],\n",
              "       [0., 0., 0., 0., 1.]])"
            ]
          },
          "metadata": {
            "tags": []
          },
          "execution_count": 51
        }
      ]
    },
    {
      "cell_type": "code",
      "metadata": {
        "id": "kPipMa0U5GFH",
        "colab_type": "code",
        "colab": {
          "base_uri": "https://localhost:8080/",
          "height": 102
        },
        "outputId": "cad4c97f-91f5-4d44-e521-ef49b043e15d"
      },
      "source": [
        "np.empty([5,5])"
      ],
      "execution_count": 52,
      "outputs": [
        {
          "output_type": "execute_result",
          "data": {
            "text/plain": [
              "array([[1., 0., 0., 0., 0.],\n",
              "       [0., 1., 0., 0., 0.],\n",
              "       [0., 0., 1., 0., 0.],\n",
              "       [0., 0., 0., 1., 0.],\n",
              "       [0., 0., 0., 0., 1.]])"
            ]
          },
          "metadata": {
            "tags": []
          },
          "execution_count": 52
        }
      ]
    },
    {
      "cell_type": "code",
      "metadata": {
        "id": "HzPcBDCX5NU6",
        "colab_type": "code",
        "colab": {}
      },
      "source": [
        ""
      ],
      "execution_count": 0,
      "outputs": []
    },
    {
      "cell_type": "markdown",
      "metadata": {
        "id": "PcY8fZdF5TIN",
        "colab_type": "text"
      },
      "source": [
        "#Generate Random "
      ]
    },
    {
      "cell_type": "code",
      "metadata": {
        "id": "Qfq0j7o45acK",
        "colab_type": "code",
        "colab": {
          "base_uri": "https://localhost:8080/",
          "height": 102
        },
        "outputId": "ccde4b8f-2081-4fec-edba-498c04e244eb"
      },
      "source": [
        "np.random.rand(5,5)"
      ],
      "execution_count": 53,
      "outputs": [
        {
          "output_type": "execute_result",
          "data": {
            "text/plain": [
              "array([[0.0231081 , 0.1053208 , 0.50416837, 0.21830363, 0.25466726],\n",
              "       [0.43607986, 0.97980339, 0.37241564, 0.69928447, 0.41990518],\n",
              "       [0.04073484, 0.95435566, 0.48985038, 0.55349146, 0.75239037],\n",
              "       [0.40609873, 0.20849973, 0.75360983, 0.61666852, 0.0135861 ],\n",
              "       [0.55634212, 0.23881844, 0.05559905, 0.95977242, 0.94624773]])"
            ]
          },
          "metadata": {
            "tags": []
          },
          "execution_count": 53
        }
      ]
    },
    {
      "cell_type": "code",
      "metadata": {
        "id": "wSeWJyj15giz",
        "colab_type": "code",
        "colab": {
          "base_uri": "https://localhost:8080/",
          "height": 68
        },
        "outputId": "a3d8cf4f-4fa0-45df-e506-18ef9ac36503"
      },
      "source": [
        "np.random.randint(5,size=(3,3))"
      ],
      "execution_count": 55,
      "outputs": [
        {
          "output_type": "execute_result",
          "data": {
            "text/plain": [
              "array([[2, 0, 3],\n",
              "       [3, 3, 1],\n",
              "       [2, 0, 3]])"
            ]
          },
          "metadata": {
            "tags": []
          },
          "execution_count": 55
        }
      ]
    },
    {
      "cell_type": "code",
      "metadata": {
        "id": "WnnVNAbg58F6",
        "colab_type": "code",
        "colab": {}
      },
      "source": [
        ""
      ],
      "execution_count": 0,
      "outputs": []
    },
    {
      "cell_type": "markdown",
      "metadata": {
        "id": "-vlCh_5E6LxU",
        "colab_type": "text"
      },
      "source": [
        "# Random Normal Distribution"
      ]
    },
    {
      "cell_type": "code",
      "metadata": {
        "id": "SgUNKNiY6Qty",
        "colab_type": "code",
        "colab": {
          "base_uri": "https://localhost:8080/",
          "height": 215
        },
        "outputId": "628f1c84-95ec-4a4c-c6f2-a49f4652e2cb"
      },
      "source": [
        "import matplotlib.pyplot as plt\n",
        "fig, axes =plt.subplots(1,2,figsize=(8,3))\n",
        "axes[0].hist(np.random.rand(1000))\n",
        "axes[1].hist(np.random.randn(1000))\n",
        "plt.show()"
      ],
      "execution_count": 56,
      "outputs": [
        {
          "output_type": "display_data",
          "data": {
            "image/png": "[encoded data removed]",
            "text/plain": [
              "<Figure size 576x216 with 2 Axes>"
            ]
          },
          "metadata": {
            "tags": []
          }
        }
      ]
    },
    {
      "cell_type": "markdown",
      "metadata": {
        "id": "d0MAA4wo6bP3",
        "colab_type": "text"
      },
      "source": [
        "uniform โอกาสของทุกๆตัวเลขเกิดขึ้นเท่ากันซึ่งมันเป็นไปไม่ได้ ใช้เยอะ!!\n",
        "normal เป็นระฆังคว่ำ"
      ]
    },
    {
      "cell_type": "code",
      "metadata": {
        "id": "edDN07Pq6wDS",
        "colab_type": "code",
        "colab": {}
      },
      "source": [
        ""
      ],
      "execution_count": 0,
      "outputs": []
    },
    {
      "cell_type": "markdown",
      "metadata": {
        "id": "s5x2iEgf8NsP",
        "colab_type": "text"
      },
      "source": [
        "# Sampling Data"
      ]
    },
    {
      "cell_type": "code",
      "metadata": {
        "id": "TxBgrWGK8SCf",
        "colab_type": "code",
        "colab": {
          "base_uri": "https://localhost:8080/",
          "height": 34
        },
        "outputId": "1a70a3c1-2b41-4790-db70-2e22c8212570"
      },
      "source": [
        "np.random.choice(5,3,replace =False)"
      ],
      "execution_count": 57,
      "outputs": [
        {
          "output_type": "execute_result",
          "data": {
            "text/plain": [
              "array([1, 0, 4])"
            ]
          },
          "metadata": {
            "tags": []
          },
          "execution_count": 57
        }
      ]
    },
    {
      "cell_type": "code",
      "metadata": {
        "id": "DOnrIH5o8edj",
        "colab_type": "code",
        "colab": {
          "base_uri": "https://localhost:8080/",
          "height": 68
        },
        "outputId": "08996278-4ab4-4167-b54e-d898c66110d8"
      },
      "source": [
        "np_matrix =np.random.rand(5,5)\n",
        "idx_choose =np.random.choice(5,3,replace =False)\n",
        "np_matrix_choose = np_matrix[idx_choose,:]\n",
        "np_matrix_choose"
      ],
      "execution_count": 59,
      "outputs": [
        {
          "output_type": "execute_result",
          "data": {
            "text/plain": [
              "array([[0.33293961, 0.24962062, 0.35709229, 0.60031778, 0.98105323],\n",
              "       [0.9221314 , 0.15388041, 0.08696067, 0.85165448, 0.08321858],\n",
              "       [0.29966342, 0.78108658, 0.03066979, 0.7023102 , 0.31854527]])"
            ]
          },
          "metadata": {
            "tags": []
          },
          "execution_count": 59
        }
      ]
    },
    {
      "cell_type": "code",
      "metadata": {
        "id": "dtpBJKfH886E",
        "colab_type": "code",
        "colab": {}
      },
      "source": [
        ""
      ],
      "execution_count": 0,
      "outputs": []
    },
    {
      "cell_type": "markdown",
      "metadata": {
        "id": "D36DbnU-9JtW",
        "colab_type": "text"
      },
      "source": [
        "# Example 1"
      ]
    },
    {
      "cell_type": "code",
      "metadata": {
        "id": "WpeC5WPB9N3C",
        "colab_type": "code",
        "colab": {
          "base_uri": "https://localhost:8080/",
          "height": 187
        },
        "outputId": "6d889bef-6e88-4323-9692-e4e966cd8558"
      },
      "source": [
        "a=np.random.rand(10,5)\n",
        "b=np.random.choice(2,10)\n",
        "a[:,4] = b\n",
        "a\n",
        "\n",
        "\n"
      ],
      "execution_count": 96,
      "outputs": [
        {
          "output_type": "execute_result",
          "data": {
            "text/plain": [
              "array([[0.0935829 , 0.28262489, 0.44450787, 0.3232895 , 1.        ],\n",
              "       [0.59940164, 0.89383427, 0.09722326, 0.0870993 , 0.        ],\n",
              "       [0.13045494, 0.0388469 , 0.08578338, 0.58619664, 1.        ],\n",
              "       [0.560796  , 0.11953262, 0.18645792, 0.09502408, 1.        ],\n",
              "       [0.66038639, 0.72847398, 0.45133161, 0.05674638, 0.        ],\n",
              "       [0.32870311, 0.59769181, 0.73575335, 0.20732837, 1.        ],\n",
              "       [0.98233764, 0.99871699, 0.3878284 , 0.72868258, 1.        ],\n",
              "       [0.20397185, 0.58930183, 0.7824901 , 0.28917994, 0.        ],\n",
              "       [0.84467746, 0.90355512, 0.26196351, 0.3542211 , 1.        ],\n",
              "       [0.26893297, 0.14199608, 0.40063001, 0.17835577, 1.        ]])"
            ]
          },
          "metadata": {
            "tags": []
          },
          "execution_count": 96
        }
      ]
    },
    {
      "cell_type": "code",
      "metadata": {
        "id": "qq_EnH1VKzOr",
        "colab_type": "code",
        "colab": {
          "base_uri": "https://localhost:8080/",
          "height": 102
        },
        "outputId": "9a015ce7-1630-48fd-94b2-20ac9850b4cf"
      },
      "source": [
        "np_matrix =np.random.randint(11,size=(5,5))\n",
        "np_matrix"
      ],
      "execution_count": 100,
      "outputs": [
        {
          "output_type": "execute_result",
          "data": {
            "text/plain": [
              "array([[ 2,  1,  1,  5,  8],\n",
              "       [ 8,  5,  9,  6,  3],\n",
              "       [ 8,  0,  4,  7,  4],\n",
              "       [ 1,  2,  3, 10,  0],\n",
              "       [ 3,  6,  4, 10,  2]])"
            ]
          },
          "metadata": {
            "tags": []
          },
          "execution_count": 100
        }
      ]
    },
    {
      "cell_type": "code",
      "metadata": {
        "id": "AdvBZmNIMkie",
        "colab_type": "code",
        "colab": {
          "base_uri": "https://localhost:8080/",
          "height": 68
        },
        "outputId": "b8767b83-8192-4db7-e26d-37e86952f447"
      },
      "source": [
        "np_matrix = np.delete(np_matrix,[1,2],0)\n",
        "np_matrix"
      ],
      "execution_count": 101,
      "outputs": [
        {
          "output_type": "execute_result",
          "data": {
            "text/plain": [
              "array([[ 2,  1,  1,  5,  8],\n",
              "       [ 1,  2,  3, 10,  0],\n",
              "       [ 3,  6,  4, 10,  2]])"
            ]
          },
          "metadata": {
            "tags": []
          },
          "execution_count": 101
        }
      ]
    },
    {
      "cell_type": "code",
      "metadata": {
        "id": "88IA9AK1M5K-",
        "colab_type": "code",
        "colab": {
          "base_uri": "https://localhost:8080/",
          "height": 102
        },
        "outputId": "97151b35-d853-4e65-e700-907d8e7d0a65"
      },
      "source": [
        "np_matrix = np.random.randint(3,size=(5,5))\n",
        "np_matrix"
      ],
      "execution_count": 102,
      "outputs": [
        {
          "output_type": "execute_result",
          "data": {
            "text/plain": [
              "array([[0, 1, 2, 1, 2],\n",
              "       [0, 0, 1, 2, 0],\n",
              "       [2, 0, 1, 2, 0],\n",
              "       [1, 1, 2, 0, 2],\n",
              "       [2, 1, 1, 2, 2]])"
            ]
          },
          "metadata": {
            "tags": []
          },
          "execution_count": 102
        }
      ]
    },
    {
      "cell_type": "code",
      "metadata": {
        "id": "MSsAIX4WNMho",
        "colab_type": "code",
        "colab": {
          "base_uri": "https://localhost:8080/",
          "height": 34
        },
        "outputId": "5eea9c31-53ac-41c5-97e9-cefc63425ae5"
      },
      "source": [
        "result=np.where(np_matrix ==2)\n",
        "result"
      ],
      "execution_count": 103,
      "outputs": [
        {
          "output_type": "execute_result",
          "data": {
            "text/plain": [
              "(array([0, 0, 1, 2, 2, 3, 3, 4, 4, 4]), array([2, 4, 3, 0, 3, 2, 4, 0, 3, 4]))"
            ]
          },
          "metadata": {
            "tags": []
          },
          "execution_count": 103
        }
      ]
    },
    {
      "cell_type": "markdown",
      "metadata": {
        "id": "2m3SuSJTOTvH",
        "colab_type": "text"
      },
      "source": [
        "2อยู่ไหน อันแรกแรกแถว อันสองเป็นคอลลัม"
      ]
    },
    {
      "cell_type": "code",
      "metadata": {
        "id": "FrMJhpdlNYzl",
        "colab_type": "code",
        "colab": {
          "base_uri": "https://localhost:8080/",
          "height": 102
        },
        "outputId": "840523c7-4a39-4f7f-b4ef-ea70badbae54"
      },
      "source": [
        "result = (np_matrix == 2)\n",
        "result"
      ],
      "execution_count": 104,
      "outputs": [
        {
          "output_type": "execute_result",
          "data": {
            "text/plain": [
              "array([[False, False,  True, False,  True],\n",
              "       [False, False, False,  True, False],\n",
              "       [ True, False, False,  True, False],\n",
              "       [False, False,  True, False,  True],\n",
              "       [ True, False, False,  True,  True]])"
            ]
          },
          "metadata": {
            "tags": []
          },
          "execution_count": 104
        }
      ]
    },
    {
      "cell_type": "markdown",
      "metadata": {
        "id": "1Ol3tFrfOnLW",
        "colab_type": "text"
      },
      "source": [
        "2อยู่ให้เป้นtrue"
      ]
    },
    {
      "cell_type": "code",
      "metadata": {
        "id": "4OF1CWY1Nqye",
        "colab_type": "code",
        "colab": {
          "base_uri": "https://localhost:8080/",
          "height": 102
        },
        "outputId": "3ad691f3-ab73-40ab-cc54-75a94baf1b03"
      },
      "source": [
        "np_matrix[result] = 99\n",
        "np_matrix"
      ],
      "execution_count": 105,
      "outputs": [
        {
          "output_type": "execute_result",
          "data": {
            "text/plain": [
              "array([[ 0,  1, 99,  1, 99],\n",
              "       [ 0,  0,  1, 99,  0],\n",
              "       [99,  0,  1, 99,  0],\n",
              "       [ 1,  1, 99,  0, 99],\n",
              "       [99,  1,  1, 99, 99]])"
            ]
          },
          "metadata": {
            "tags": []
          },
          "execution_count": 105
        }
      ]
    },
    {
      "cell_type": "markdown",
      "metadata": {
        "id": "Ca7lWrwrO20X",
        "colab_type": "text"
      },
      "source": [
        "เอา99 ไปแทน2"
      ]
    },
    {
      "cell_type": "code",
      "metadata": {
        "id": "GMWn6nB9Oz0e",
        "colab_type": "code",
        "colab": {}
      },
      "source": [
        ""
      ],
      "execution_count": 0,
      "outputs": []
    },
    {
      "cell_type": "markdown",
      "metadata": {
        "id": "lKs4PRyqO-DD",
        "colab_type": "text"
      },
      "source": [
        "# Example 2"
      ]
    },
    {
      "cell_type": "code",
      "metadata": {
        "id": "J3tG0sFqPBM-",
        "colab_type": "code",
        "colab": {
          "base_uri": "https://localhost:8080/",
          "height": 187
        },
        "outputId": "0eb1d826-03a3-4338-b4e2-092023feb966"
      },
      "source": [
        "a=np.random.rand(10,5)\n",
        "a\n",
        "\n"
      ],
      "execution_count": 134,
      "outputs": [
        {
          "output_type": "execute_result",
          "data": {
            "text/plain": [
              "array([[0.23234311, 0.64001864, 0.13655858, 0.34921926, 0.45653133],\n",
              "       [0.97446786, 0.74430206, 0.4126999 , 0.47168291, 0.5460828 ],\n",
              "       [0.7418482 , 0.55650822, 0.18592998, 0.08230826, 0.96700139],\n",
              "       [0.57812625, 0.81032643, 0.91425984, 0.14028329, 0.52760959],\n",
              "       [0.63544168, 0.80769661, 0.83659271, 0.79548502, 0.36443787],\n",
              "       [0.66775475, 0.51537071, 0.58875178, 0.17340833, 0.50507528],\n",
              "       [0.74715946, 0.57260312, 0.45003746, 0.90150319, 0.48530407],\n",
              "       [0.96566959, 0.2514004 , 0.21824651, 0.35161624, 0.80914223],\n",
              "       [0.60781291, 0.29502579, 0.11603512, 0.78630296, 0.29873123],\n",
              "       [0.45738117, 0.29788287, 0.48010742, 0.23440096, 0.7220152 ]])"
            ]
          },
          "metadata": {
            "tags": []
          },
          "execution_count": 134
        }
      ]
    },
    {
      "cell_type": "code",
      "metadata": {
        "id": "JPkK-Q9bPO6e",
        "colab_type": "code",
        "colab": {
          "base_uri": "https://localhost:8080/",
          "height": 34
        },
        "outputId": "c19ac858-cf48-4d7a-d4ec-fe09f489eba0"
      },
      "source": [
        "b=np.random.choice(3,10)\n",
        "b"
      ],
      "execution_count": 135,
      "outputs": [
        {
          "output_type": "execute_result",
          "data": {
            "text/plain": [
              "array([0, 2, 2, 0, 1, 1, 2, 0, 2, 1])"
            ]
          },
          "metadata": {
            "tags": []
          },
          "execution_count": 135
        }
      ]
    },
    {
      "cell_type": "code",
      "metadata": {
        "id": "jB3lgNoEPqRW",
        "colab_type": "code",
        "colab": {
          "base_uri": "https://localhost:8080/",
          "height": 34
        },
        "outputId": "129e7605-2e41-403c-f06f-d841cd8effa3"
      },
      "source": [
        "index = np.where(b== 2)\n",
        "index"
      ],
      "execution_count": 136,
      "outputs": [
        {
          "output_type": "execute_result",
          "data": {
            "text/plain": [
              "(array([1, 2, 6, 8]),)"
            ]
          },
          "metadata": {
            "tags": []
          },
          "execution_count": 136
        }
      ]
    },
    {
      "cell_type": "code",
      "metadata": {
        "id": "PiST1C88SEwl",
        "colab_type": "code",
        "colab": {
          "base_uri": "https://localhost:8080/",
          "height": 85
        },
        "outputId": "bf4635c2-7003-4ca3-9e7b-5896588d3b9c"
      },
      "source": [
        "result=a[index]\n",
        "result"
      ],
      "execution_count": 138,
      "outputs": [
        {
          "output_type": "execute_result",
          "data": {
            "text/plain": [
              "array([[0.97446786, 0.74430206, 0.4126999 , 0.47168291, 0.5460828 ],\n",
              "       [0.7418482 , 0.55650822, 0.18592998, 0.08230826, 0.96700139],\n",
              "       [0.74715946, 0.57260312, 0.45003746, 0.90150319, 0.48530407],\n",
              "       [0.60781291, 0.29502579, 0.11603512, 0.78630296, 0.29873123]])"
            ]
          },
          "metadata": {
            "tags": []
          },
          "execution_count": 138
        }
      ]
    },
    {
      "cell_type": "code",
      "metadata": {
        "id": "WE1pBwPDV7xF",
        "colab_type": "code",
        "colab": {}
      },
      "source": [
        ""
      ],
      "execution_count": 0,
      "outputs": []
    }
  ]
}